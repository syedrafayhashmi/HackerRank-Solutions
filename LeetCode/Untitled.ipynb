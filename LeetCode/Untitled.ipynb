{
 "cells": [
  {
   "cell_type": "markdown",
   "metadata": {},
   "source": [
    "# REVERSE INTEGERS"
   ]
  },
  {
   "cell_type": "code",
   "execution_count": 93,
   "metadata": {},
   "outputs": [],
   "source": [
    "class Solution:\n",
    "    def reverse(self, x: int) -> int:\n",
    "        if x >= 2**31-1 or x <= -2**31: return 0\n",
    "        else:\n",
    "            x = str(x)\n",
    "            x = list(x)\n",
    "            if (x[0] == \"-\"):\n",
    "                x.remove(x[0])\n",
    "                x.reverse()\n",
    "                x.insert(0,\"-\")\n",
    "                x = \"\".join(x)\n",
    "                x = int(x)\n",
    "                if ((x>=2**31-1)or(x <=-2**31)): return 0\n",
    "                else:\n",
    "                    return x\n",
    "            else:\n",
    "                x.reverse()\n",
    "                x = \"\".join(x)\n",
    "                x = int(x)\n",
    "                if ((x>=2**31-1)or(x <=-2**31)): return 0\n",
    "                else:\n",
    "                    return x\n",
    "        "
   ]
  },
  {
   "cell_type": "code",
   "execution_count": 92,
   "metadata": {},
   "outputs": [
    {
     "name": "stdout",
     "output_type": "stream",
     "text": [
      "0\n"
     ]
    }
   ],
   "source": [
    "Input: l1 = [2,4,3], l2 = [5,6,4]\n",
    "Output: [7,0,8]\n",
    "Explanation: 342 + 465 = 807."
   ]
  },
  {
   "cell_type": "code",
   "execution_count": 146,
   "metadata": {},
   "outputs": [
    {
     "data": {
      "text/plain": [
       "['7', '0', '8']"
      ]
     },
     "execution_count": 146,
     "metadata": {},
     "output_type": "execute_result"
    }
   ],
   "source": [
    "l1 = [2,4,3]\n",
    "l2 = [5,6,4]\n",
    "l1 = map(str,l1)\n",
    "l1 = list(l1)\n",
    "l1.reverse()\n",
    "l1 = int(\"\".join(l1))\n",
    "l2 = map(str,l2)\n",
    "l2 = list(l2)\n",
    "l2.reverse()\n",
    "l2 = int(\"\".join(l2))\n",
    "l3 = str(l1+l2)\n",
    "l3 = list(l3)\n",
    "l3.reverse()\n",
    "\n",
    "l3\n"
   ]
  },
  {
   "cell_type": "markdown",
   "metadata": {},
   "source": [
    "# Palindrome Number"
   ]
  },
  {
   "cell_type": "code",
   "execution_count": 181,
   "metadata": {},
   "outputs": [
    {
     "name": "stdout",
     "output_type": "stream",
     "text": [
      "True\n"
     ]
    }
   ],
   "source": [
    "x = 1221\n",
    "if x<0:print(False)\n",
    "elif str(x) == str(x)[::-1]:\n",
    "    print(True)\n",
    "    \n",
    "        \n",
    "    \n",
    "\n"
   ]
  },
  {
   "cell_type": "markdown",
   "metadata": {},
   "source": [
    "# Roman to Integer"
   ]
  },
  {
   "cell_type": "raw",
   "metadata": {},
   "source": [
    "Symbol       Value\n",
    "I             1\n",
    "V             5\n",
    "X             10\n",
    "L             50\n",
    "C             100\n",
    "D             500\n",
    "M             1000\n",
    "x5 x2"
   ]
  },
  {
   "cell_type": "code",
   "execution_count": 299,
   "metadata": {},
   "outputs": [],
   "source": [
    "sym = { \"I\": 1,\"V\": 5,\"X\":10, \"L\":50,\"C\":100,\"D\":500,\"M\":1000}\n",
    "\n",
    "s = \"IX\"\n",
    "s = list(s)\n",
    "sum = 0\n",
    "prev = 0\n",
    "sym = { \"I\": 1,\"V\": 5,\"X\":10, \"L\":50,\"C\":100,\"D\":500,\"M\":1000}\n",
    "for i,curr in enumerate(s):\n",
    "    if sym.get(prev,0) >= sym[curr]:\n",
    "        sum += sym[curr]\n",
    "    else:\n",
    "        sum += sym[curr] - 2*sym.get(prev,0)\n",
    "    prev = curr"
   ]
  },
  {
   "cell_type": "code",
   "execution_count": 301,
   "metadata": {},
   "outputs": [
    {
     "data": {
      "text/plain": [
       "9"
      ]
     },
     "execution_count": 301,
     "metadata": {},
     "output_type": "execute_result"
    }
   ],
   "source": [
    "sum"
   ]
  },
  {
   "cell_type": "code",
   "execution_count": 302,
   "metadata": {},
   "outputs": [
    {
     "data": {
      "text/plain": [
       "8"
      ]
     },
     "execution_count": 302,
     "metadata": {},
     "output_type": "execute_result"
    }
   ],
   "source": [
    "0 ^ 2 ^ 4 ^ 6 ^ 8"
   ]
  },
  {
   "cell_type": "code",
   "execution_count": 308,
   "metadata": {},
   "outputs": [],
   "source": [
    "x = [3, 5, 7, 9]\n",
    "a = 0\n",
    "for i,bit in enumerate(x):\n",
    "    a^=bit"
   ]
  },
  {
   "cell_type": "code",
   "execution_count": 313,
   "metadata": {},
   "outputs": [],
   "source": [
    "n = 5\n",
    "start = 0\n",
    "nums = 0\n",
    "\n",
    "for i in range(n):\n",
    "    nums^= (start + 2*i)\n"
   ]
  },
  {
   "cell_type": "code",
   "execution_count": 317,
   "metadata": {},
   "outputs": [
    {
     "data": {
      "text/plain": [
       "8"
      ]
     },
     "execution_count": 317,
     "metadata": {},
     "output_type": "execute_result"
    }
   ],
   "source": [
    "count = 0\n",
    "while(count == n):\n",
    "    count+=1\n",
    "    nums^= start+2*count\n",
    "nums"
   ]
  },
  {
   "cell_type": "code",
   "execution_count": null,
   "metadata": {},
   "outputs": [],
   "source": []
  }
 ],
 "metadata": {
  "kernelspec": {
   "display_name": "Python 3",
   "language": "python",
   "name": "python3"
  },
  "language_info": {
   "codemirror_mode": {
    "name": "ipython",
    "version": 3
   },
   "file_extension": ".py",
   "mimetype": "text/x-python",
   "name": "python",
   "nbconvert_exporter": "python",
   "pygments_lexer": "ipython3",
   "version": "3.7.3"
  }
 },
 "nbformat": 4,
 "nbformat_minor": 2
}
