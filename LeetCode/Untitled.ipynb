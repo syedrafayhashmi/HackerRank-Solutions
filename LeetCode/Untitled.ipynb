{
 "cells": [
  {
   "cell_type": "markdown",
   "metadata": {},
   "source": [
    "# REVERSE INTEGERS"
   ]
  },
  {
   "cell_type": "code",
   "execution_count": 93,
   "metadata": {},
   "outputs": [],
   "source": [
    "class Solution:\n",
    "    def reverse(self, x: int) -> int:\n",
    "        if x >= 2**31-1 or x <= -2**31: return 0\n",
    "        else:\n",
    "            x = str(x)\n",
    "            x = list(x)\n",
    "            if (x[0] == \"-\"):\n",
    "                x.remove(x[0])\n",
    "                x.reverse()\n",
    "                x.insert(0,\"-\")\n",
    "                x = \"\".join(x)\n",
    "                x = int(x)\n",
    "                if ((x>=2**31-1)or(x <=-2**31)): return 0\n",
    "                else:\n",
    "                    return x\n",
    "            else:\n",
    "                x.reverse()\n",
    "                x = \"\".join(x)\n",
    "                x = int(x)\n",
    "                if ((x>=2**31-1)or(x <=-2**31)): return 0\n",
    "                else:\n",
    "                    return x\n",
    "        "
   ]
  },
  {
   "cell_type": "code",
   "execution_count": 92,
   "metadata": {},
   "outputs": [
    {
     "name": "stdout",
     "output_type": "stream",
     "text": [
      "0\n"
     ]
    }
   ],
   "source": []
  },
  {
   "cell_type": "code",
   "execution_count": null,
   "metadata": {},
   "outputs": [],
   "source": []
  }
 ],
 "metadata": {
  "kernelspec": {
   "display_name": "Python 3",
   "language": "python",
   "name": "python3"
  },
  "language_info": {
   "codemirror_mode": {
    "name": "ipython",
    "version": 3
   },
   "file_extension": ".py",
   "mimetype": "text/x-python",
   "name": "python",
   "nbconvert_exporter": "python",
   "pygments_lexer": "ipython3",
   "version": "3.7.3"
  }
 },
 "nbformat": 4,
 "nbformat_minor": 2
}
