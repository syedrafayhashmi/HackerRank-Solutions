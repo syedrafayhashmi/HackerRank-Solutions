{
 "cells": [
  {
   "cell_type": "code",
   "execution_count": 27,
   "metadata": {},
   "outputs": [
    {
     "name": "stdout",
     "output_type": "stream",
     "text": [
      "9\n",
      "10 20 20 10 10 30 50 10 20\n",
      "3\n"
     ]
    }
   ],
   "source": [
    "#!/bin/python3\n",
    "\n",
    "import math\n",
    "import os\n",
    "import random\n",
    "import re\n",
    "import sys\n",
    "\n",
    "# Complete the sockMerchant function below.\n",
    "def sockMerchant(n, ar):\n",
    "    temp  = []\n",
    "    counter = 0\n",
    "    cnt = 0\n",
    "    for x in range(n):\n",
    "    \n",
    "        if ar[x] not in temp:\n",
    "            temp.append(ar[x])\n",
    "            cnt = ar.count(ar[x])\n",
    "            if cnt % 2 == 1:\n",
    "                counter += (cnt-1)/2\n",
    "            if cnt % 2 == 0:\n",
    "                counter += cnt/2    \n",
    "    return (int(counter)) \n",
    "\n",
    "\n",
    "if __name__ == '__main__':\n",
    "\n",
    "    n = int(input())\n",
    "\n",
    "    ar = list(map(int, input().rstrip().split()))\n",
    "\n",
    "    result = sockMerchant(n, ar)\n",
    "\n",
    "    print(result)"
   ]
  },
  {
   "cell_type": "code",
   "execution_count": 40,
   "metadata": {},
   "outputs": [
    {
     "name": "stdout",
     "output_type": "stream",
     "text": [
      "8\n",
      "UDDDUDUU\n"
     ]
    }
   ],
   "source": [
    "#!/bin/python3\n",
    "\n",
    "import math\n",
    "import os\n",
    "import random\n",
    "import re\n",
    "import sys\n",
    "#8\n",
    "#UDDDUDUU\n",
    "# Complete the countingValleys function below.\n",
    "def countingValleys(n, s):\n",
    "    level = 0\n",
    "    count = 0\n",
    "    \n",
    "    for x in range(n):\n",
    "        if s[x] == 'U':\n",
    "            level+=1\n",
    "        if s[x] == 'D':\n",
    "            level-=1\n",
    "        if level == 0 and s[x] == 'U':\n",
    "            count+=1\n",
    "    return count       \n",
    "            \n",
    "    \n",
    "\n",
    "if __name__ == '__main__':\n",
    "\n",
    "    n = int(input())\n",
    "\n",
    "    s = input()\n",
    "\n",
    "    result = countingValleys(n, s)\n",
    "\n",
    "\n"
   ]
  },
  {
   "cell_type": "code",
   "execution_count": 41,
   "metadata": {},
   "outputs": [
    {
     "data": {
      "text/plain": [
       "1"
      ]
     },
     "execution_count": 41,
     "metadata": {},
     "output_type": "execute_result"
    }
   ],
   "source": [
    "result"
   ]
  },
  {
   "cell_type": "code",
   "execution_count": 67,
   "metadata": {},
   "outputs": [
    {
     "name": "stdout",
     "output_type": "stream",
     "text": [
      "6 50\n"
     ]
    }
   ],
   "source": [
    "lst = list(map(int, input().rstrip().split()))"
   ]
  },
  {
   "cell_type": "code",
   "execution_count": 68,
   "metadata": {},
   "outputs": [
    {
     "data": {
      "text/plain": [
       "[6, 50]"
      ]
     },
     "execution_count": 68,
     "metadata": {},
     "output_type": "execute_result"
    }
   ],
   "source": [
    "lst"
   ]
  },
  {
   "cell_type": "code",
   "execution_count": null,
   "metadata": {},
   "outputs": [],
   "source": [
    "import itertools \n",
    "lst = list(map(int, input().rstrip().split()))\n",
    "def findsubsets(s, n): \n",
    "    return list(itertools.combinations(s, n)) \n",
    "st = []\n",
    "for x in range(1,lst[0]+1):\n",
    "    st.append(x**x)\n",
    "subst = []\n",
    "for x in range(lst[0]):\n",
    "    subst.append(findsubsets(st,x))\n",
    "counter = 0\n",
    "for s in enumerate(subst):\n",
    "    for t in enumerate(s[1]):\n",
    "        if sum(t[1]) % lst[1] == 0: \n",
    "            counter+=1\n",
    "print(counter-1)"
   ]
  },
  {
   "cell_type": "code",
   "execution_count": null,
   "metadata": {},
   "outputs": [],
   "source": []
  },
  {
   "cell_type": "code",
   "execution_count": 14,
   "metadata": {},
   "outputs": [
    {
     "ename": "IndentationError",
     "evalue": "expected an indented block (<ipython-input-14-3a50d3f3abae>, line 12)",
     "output_type": "error",
     "traceback": [
      "\u001b[1;36m  File \u001b[1;32m\"<ipython-input-14-3a50d3f3abae>\"\u001b[1;36m, line \u001b[1;32m12\u001b[0m\n\u001b[1;33m    if __name__ == '__main__':\u001b[0m\n\u001b[1;37m     ^\u001b[0m\n\u001b[1;31mIndentationError\u001b[0m\u001b[1;31m:\u001b[0m expected an indented block\n"
     ]
    }
   ],
   "source": [
    "\n",
    "import math\n",
    "import os\n",
    "import random\n",
    "import re\n",
    "import sys\n",
    "\n",
    "# Complete the jumpingOnClouds function below.\n",
    "def jumpingOnClouds(c):\n",
    "    \n",
    "    \n",
    "\n",
    "if __name__ == '__main__':\n",
    "\n",
    "\n",
    "    n = int(input())\n",
    "\n",
    "    c = list(map(int, input().rstrip().split()))\n",
    "\n",
    "    result = jumpingOnClouds(c)\n",
    "    print(result)\n",
    "   \n"
   ]
  },
  {
   "cell_type": "code",
   "execution_count": 45,
   "metadata": {},
   "outputs": [
    {
     "data": {
      "text/plain": [
       "[0, 0, 0, 1, 0, 0]"
      ]
     },
     "execution_count": 45,
     "metadata": {},
     "output_type": "execute_result"
    }
   ],
   "source": [
    "lst  = '0 0 0 1 0 0'\n",
    "lst = list(map(int,lst.split(\" \")))\n",
    "lst"
   ]
  },
  {
   "cell_type": "code",
   "execution_count": 49,
   "metadata": {},
   "outputs": [
    {
     "data": {
      "text/plain": [
       "4"
      ]
     },
     "execution_count": 49,
     "metadata": {},
     "output_type": "execute_result"
    }
   ],
   "source": [
    "count = 0\n",
    "for x in range(len(lst)):\n",
    "    if x+2<len(lst):\n",
    "        if lst[x+1] == 0 and lst[x+2]==0:\n",
    "            count+=1\n",
    "            continue\n",
    "        if lst[x+1] == 0 and lst[x+2] == 1:\n",
    "            count+=1\n",
    "        if lst[x+1] == 1 and lst[x+2] == 0:\n",
    "            count+=1\n",
    "            continue\n",
    "    else:\n",
    "        if x<len(lst)-1:\n",
    "            count+=1\n",
    "count-1"
   ]
  },
  {
   "cell_type": "code",
   "execution_count": 39,
   "metadata": {},
   "outputs": [
    {
     "data": {
      "text/plain": [
       "4"
      ]
     },
     "execution_count": 39,
     "metadata": {},
     "output_type": "execute_result"
    }
   ],
   "source": [
    "x"
   ]
  },
  {
   "cell_type": "code",
   "execution_count": null,
   "metadata": {},
   "outputs": [],
   "source": []
  },
  {
   "cell_type": "code",
   "execution_count": null,
   "metadata": {},
   "outputs": [],
   "source": []
  }
 ],
 "metadata": {
  "kernelspec": {
   "display_name": "Python 3",
   "language": "python",
   "name": "python3"
  },
  "language_info": {
   "codemirror_mode": {
    "name": "ipython",
    "version": 3
   },
   "file_extension": ".py",
   "mimetype": "text/x-python",
   "name": "python",
   "nbconvert_exporter": "python",
   "pygments_lexer": "ipython3",
   "version": "3.7.3"
  }
 },
 "nbformat": 4,
 "nbformat_minor": 2
}
